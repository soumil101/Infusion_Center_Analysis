{
 "cells": [
  {
   "attachments": {},
   "cell_type": "markdown",
   "metadata": {},
   "source": [
    "This notebook served as my testing grounds to create the functions that manipulated the times in the CSV.  \n",
    "The final versions of these functions are located inside functions.py"
   ]
  },
  {
   "cell_type": "code",
   "execution_count": 9,
   "metadata": {},
   "outputs": [],
   "source": [
    "import pandas as pd\n",
    "from datetime import datetime, date\n",
    "import re"
   ]
  },
  {
   "cell_type": "code",
   "execution_count": 10,
   "metadata": {},
   "outputs": [],
   "source": [
    "df = pd.read_csv('test.csv')"
   ]
  },
  {
   "cell_type": "code",
   "execution_count": 11,
   "metadata": {},
   "outputs": [
    {
     "data": {
      "text/html": [
       "<div>\n",
       "<style scoped>\n",
       "    .dataframe tbody tr th:only-of-type {\n",
       "        vertical-align: middle;\n",
       "    }\n",
       "\n",
       "    .dataframe tbody tr th {\n",
       "        vertical-align: top;\n",
       "    }\n",
       "\n",
       "    .dataframe thead th {\n",
       "        text-align: right;\n",
       "    }\n",
       "</style>\n",
       "<table border=\"1\" class=\"dataframe\">\n",
       "  <thead>\n",
       "    <tr style=\"text-align: right;\">\n",
       "      <th></th>\n",
       "      <th>row</th>\n",
       "      <th>start</th>\n",
       "      <th>end</th>\n",
       "      <th>med</th>\n",
       "    </tr>\n",
       "  </thead>\n",
       "  <tbody>\n",
       "    <tr>\n",
       "      <th>0</th>\n",
       "      <td>1</td>\n",
       "      <td>2021-10-31  12:00AM</td>\n",
       "      <td>1:00 AM</td>\n",
       "      <td>Dayquil</td>\n",
       "    </tr>\n",
       "    <tr>\n",
       "      <th>1</th>\n",
       "      <td>2</td>\n",
       "      <td>2021-10-31  1:00 PM</td>\n",
       "      <td>1:30 PM</td>\n",
       "      <td>Nyquil</td>\n",
       "    </tr>\n",
       "    <tr>\n",
       "      <th>2</th>\n",
       "      <td>3</td>\n",
       "      <td>2021-10-31  08:00AM</td>\n",
       "      <td>10:10 AM</td>\n",
       "      <td>Dayquil</td>\n",
       "    </tr>\n",
       "    <tr>\n",
       "      <th>3</th>\n",
       "      <td>4</td>\n",
       "      <td>2021-10-31  10:30AM</td>\n",
       "      <td>10:00AM</td>\n",
       "      <td>Dayquil</td>\n",
       "    </tr>\n",
       "    <tr>\n",
       "      <th>4</th>\n",
       "      <td>5</td>\n",
       "      <td>2021-10-31  08:00AM</td>\n",
       "      <td>10:00AM</td>\n",
       "      <td>Nyquil</td>\n",
       "    </tr>\n",
       "    <tr>\n",
       "      <th>5</th>\n",
       "      <td>5</td>\n",
       "      <td>2021-10-31  08:00AM</td>\n",
       "      <td>10:00AM</td>\n",
       "      <td>Nyquil</td>\n",
       "    </tr>\n",
       "  </tbody>\n",
       "</table>\n",
       "</div>"
      ],
      "text/plain": [
       "   row                start       end      med\n",
       "0    1  2021-10-31  12:00AM   1:00 AM  Dayquil\n",
       "1    2  2021-10-31  1:00 PM   1:30 PM   Nyquil\n",
       "2    3  2021-10-31  08:00AM  10:10 AM  Dayquil\n",
       "3    4  2021-10-31  10:30AM   10:00AM  Dayquil\n",
       "4    5  2021-10-31  08:00AM   10:00AM   Nyquil\n",
       "5    5  2021-10-31  08:00AM   10:00AM   Nyquil"
      ]
     },
     "execution_count": 11,
     "metadata": {},
     "output_type": "execute_result"
    }
   ],
   "source": [
    "df"
   ]
  },
  {
   "cell_type": "code",
   "execution_count": 12,
   "metadata": {},
   "outputs": [],
   "source": [
    "def convertTime(time):\n",
    "    if time is None or pd.isnull(time):\n",
    "        return None\n",
    "\n",
    "    form = re.match(r'(\\d{1,2}):(\\d{2})(\\s*[AP]M)', time)\n",
    "    if form:\n",
    "        try:\n",
    "            time = pd.to_datetime(time, format='%I:%M%p')\n",
    "        except ValueError:\n",
    "            time = pd.to_datetime(time, format='%I:%M %p')\n",
    "\n",
    "    else:\n",
    "        try:\n",
    "            time = pd.to_datetime(time, format='%Y-%m-%d %I:%M%p')\n",
    "        except ValueError:\n",
    "            time = pd.to_datetime(time, format='%Y-%m-%d %I:%M %p')\n",
    "    \n",
    "    # Return time as a datetime object\n",
    "    time = time.time()\n",
    "    return time"
   ]
  },
  {
   "cell_type": "code",
   "execution_count": 13,
   "metadata": {},
   "outputs": [],
   "source": [
    "def timeDifference(time1, time2):\n",
    "    res = datetime.combine(date.min, time2) - datetime.combine(date.min, time1)\n",
    "    res = int(res.total_seconds() / 60)\n",
    "    return res"
   ]
  },
  {
   "cell_type": "code",
   "execution_count": 14,
   "metadata": {},
   "outputs": [],
   "source": [
    "df = pd.read_csv('test.csv')\n",
    "\n",
    "# extract the military time as a string\n",
    "df['start'] = df['start'].apply(convertTime)\n",
    "df['end'] = df['end'].apply(convertTime)"
   ]
  },
  {
   "cell_type": "code",
   "execution_count": 15,
   "metadata": {},
   "outputs": [],
   "source": [
    "df['delta'] = df.apply(lambda row: timeDifference(row['start'], row['end']), axis=1)"
   ]
  }
 ],
 "metadata": {
  "kernelspec": {
   "display_name": "Python 3 (ipykernel)",
   "language": "python",
   "name": "python3"
  },
  "language_info": {
   "codemirror_mode": {
    "name": "ipython",
    "version": 3
   },
   "file_extension": ".py",
   "mimetype": "text/x-python",
   "name": "python",
   "nbconvert_exporter": "python",
   "pygments_lexer": "ipython3",
   "version": "3.11.0"
  },
  "vscode": {
   "interpreter": {
    "hash": "aee8b7b246df8f9039afb4144a1f6fd8d2ca17a180786b69acc140d282b71a49"
   }
  }
 },
 "nbformat": 4,
 "nbformat_minor": 2
}
