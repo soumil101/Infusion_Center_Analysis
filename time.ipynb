{
 "cells": [
  {
   "cell_type": "code",
   "execution_count": 1,
   "metadata": {},
   "outputs": [],
   "source": [
    "import pandas as pd\n",
    "import datetime as dt\n",
    "import re"
   ]
  },
  {
   "cell_type": "code",
   "execution_count": 26,
   "metadata": {},
   "outputs": [],
   "source": [
    "df = pd.read_csv('test.csv')"
   ]
  },
  {
   "cell_type": "code",
   "execution_count": 31,
   "metadata": {},
   "outputs": [
    {
     "data": {
      "text/html": [
       "<div>\n",
       "<style scoped>\n",
       "    .dataframe tbody tr th:only-of-type {\n",
       "        vertical-align: middle;\n",
       "    }\n",
       "\n",
       "    .dataframe tbody tr th {\n",
       "        vertical-align: top;\n",
       "    }\n",
       "\n",
       "    .dataframe thead th {\n",
       "        text-align: right;\n",
       "    }\n",
       "</style>\n",
       "<table border=\"1\" class=\"dataframe\">\n",
       "  <thead>\n",
       "    <tr style=\"text-align: right;\">\n",
       "      <th></th>\n",
       "      <th>row</th>\n",
       "      <th>start</th>\n",
       "      <th>end</th>\n",
       "      <th>med</th>\n",
       "    </tr>\n",
       "  </thead>\n",
       "  <tbody>\n",
       "    <tr>\n",
       "      <th>0</th>\n",
       "      <td>1</td>\n",
       "      <td>00:00:00</td>\n",
       "      <td>None</td>\n",
       "      <td>Dayquil</td>\n",
       "    </tr>\n",
       "    <tr>\n",
       "      <th>1</th>\n",
       "      <td>2</td>\n",
       "      <td>13:00:00</td>\n",
       "      <td>13:30:00</td>\n",
       "      <td>Nyquil</td>\n",
       "    </tr>\n",
       "    <tr>\n",
       "      <th>2</th>\n",
       "      <td>3</td>\n",
       "      <td>08:00:00</td>\n",
       "      <td>10:10:00</td>\n",
       "      <td>Dayquil</td>\n",
       "    </tr>\n",
       "    <tr>\n",
       "      <th>3</th>\n",
       "      <td>4</td>\n",
       "      <td>10:30:00</td>\n",
       "      <td>10:00:00</td>\n",
       "      <td>Dayquil</td>\n",
       "    </tr>\n",
       "    <tr>\n",
       "      <th>4</th>\n",
       "      <td>5</td>\n",
       "      <td>08:00:00</td>\n",
       "      <td>10:00:00</td>\n",
       "      <td>Nyquil</td>\n",
       "    </tr>\n",
       "  </tbody>\n",
       "</table>\n",
       "</div>"
      ],
      "text/plain": [
       "   row     start       end      med\n",
       "0    1  00:00:00      None  Dayquil\n",
       "1    2  13:00:00  13:30:00   Nyquil\n",
       "2    3  08:00:00  10:10:00  Dayquil\n",
       "3    4  10:30:00  10:00:00  Dayquil\n",
       "4    5  08:00:00  10:00:00   Nyquil"
      ]
     },
     "execution_count": 31,
     "metadata": {},
     "output_type": "execute_result"
    }
   ],
   "source": [
    "df"
   ]
  },
  {
   "cell_type": "code",
   "execution_count": 30,
   "metadata": {},
   "outputs": [],
   "source": [
    "df = pd.read_csv('test.csv')\n",
    "\n",
    "# extract the military time as a string\n",
    "df['start'] = df['start'].apply(convertTime)\n",
    "df['end'] = df['end'].apply(convertTime)"
   ]
  },
  {
   "cell_type": "code",
   "execution_count": null,
   "metadata": {},
   "outputs": [],
   "source": [
    "def military_time(df, column):\n",
    "    for i, row in df.iterrows():\n",
    "        value = row[column]\n",
    "        # skips blank values\n",
    "        if pd.isna(value) or value == \"\":\n",
    "            continue\n",
    "        # parses no matter if date or time is present. works for any column present in data, regardless of spacing\n",
    "        try:\n",
    "            datetime = pd.to_datetime(value, format='%Y-%m-%d %I:%M%p')\n",
    "        except ValueError:\n",
    "            datetime = pd.to_datetime(value, format='%I:%M%p')\n",
    "        # replaces time with military time\n",
    "        df.at[i, column] = datetime.strftime('%H:%M')\n",
    "\n",
    "def check_space(value, datetime):\n",
    "    minute = datetime.strftime('%-m').shape[0]\n",
    "    if value[minute] == \" \":\n",
    "        return True\n",
    "    else:\n",
    "        return False"
   ]
  },
  {
   "cell_type": "code",
   "execution_count": 29,
   "metadata": {},
   "outputs": [],
   "source": [
    "def convertTime(time):\n",
    "    if time is None or pd.isnull(time):\n",
    "        return None\n",
    "\n",
    "    form = re.match(r'(\\d{1,2}):(\\d{2})(\\s*[AP]M)', time)\n",
    "    if form:\n",
    "        try:\n",
    "            time = pd.to_datetime(time, format='%I:%M%p')\n",
    "        except ValueError:\n",
    "            time = pd.to_datetime(time, format='%I:%M %p')\n",
    "\n",
    "    else:\n",
    "        try:\n",
    "            time = pd.to_datetime(time, format='%Y-%m-%d %I:%M%p')\n",
    "        except ValueError:\n",
    "            time = pd.to_datetime(time, format='%Y-%m-%d %I:%M %p')\n",
    "    \n",
    "    # Return time as a datetime object\n",
    "    time = time.time()\n",
    "    return time"
   ]
  }
 ],
 "metadata": {
  "kernelspec": {
   "display_name": "Python 3 (ipykernel)",
   "language": "python",
   "name": "python3"
  },
  "language_info": {
   "codemirror_mode": {
    "name": "ipython",
    "version": 3
   },
   "file_extension": ".py",
   "mimetype": "text/x-python",
   "name": "python",
   "nbconvert_exporter": "python",
   "pygments_lexer": "ipython3",
   "version": "3.11.0"
  },
  "vscode": {
   "interpreter": {
    "hash": "aee8b7b246df8f9039afb4144a1f6fd8d2ca17a180786b69acc140d282b71a49"
   }
  }
 },
 "nbformat": 4,
 "nbformat_minor": 2
}
