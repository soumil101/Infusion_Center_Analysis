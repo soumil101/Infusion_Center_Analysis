{
 "cells": [
  {
   "attachments": {},
   "cell_type": "markdown",
   "metadata": {},
   "source": [
    "This notebook is where I did the bulk of the operations for cleaning the data. It follows the steps outlined in the slides for how I cleaned this data."
   ]
  },
  {
   "cell_type": "code",
   "execution_count": null,
   "metadata": {},
   "outputs": [],
   "source": [
    "import pandas as pd\n",
    "from datetime import datetime, date\n",
    "import re\n",
    "from functions import convertTime, timeDifference, timeOfDay"
   ]
  },
  {
   "cell_type": "code",
   "execution_count": null,
   "metadata": {},
   "outputs": [],
   "source": [
    "df = pd.read_csv('data.csv') # Resets the dataframe | FOR TESTING"
   ]
  },
  {
   "cell_type": "code",
   "execution_count": null,
   "metadata": {},
   "outputs": [],
   "source": [
    "print(df.to_string()) # Displays dataframe | FOR TESTING"
   ]
  },
  {
   "attachments": {},
   "cell_type": "markdown",
   "metadata": {},
   "source": [
    "The next cell removes any rows that are missing data in at least 2 of CHECKIN_DTTM, CHAIR_START, INFUSION_START.  \n",
    "This also cleans up any appointments that were cancelled or skipped.  "
   ]
  },
  {
   "cell_type": "code",
   "execution_count": null,
   "metadata": {},
   "outputs": [],
   "source": [
    "df = df.dropna(subset=['CHECKIN_DTTM', 'CHAIR_START', 'INFUSION_START'], thresh=2)"
   ]
  },
  {
   "attachments": {},
   "cell_type": "markdown",
   "metadata": {},
   "source": [
    "The next cell applies the convertTime function to these columns, converting the times within the columns to datetime objects, allowing for easier addition and subtraction of them later.  \n",
    "convertTime can be found in functions.py "
   ]
  },
  {
   "cell_type": "code",
   "execution_count": null,
   "metadata": {},
   "outputs": [],
   "source": [
    "df['CHECKIN_DTTM'] = df['CHECKIN_DTTM'].apply(convertTime)\n",
    "df['CHAIR_START'] = df['CHAIR_START'].apply(convertTime)\n",
    "df['INFUSION_START'] = df['INFUSION_START'].apply(convertTime)"
   ]
  },
  {
   "attachments": {},
   "cell_type": "markdown",
   "metadata": {},
   "source": [
    "The next cell is reponsible for dropping all except one of the duplicates.  \n",
    "First it sorts the data by 'INFUSION_START', then 'INPATIENT_DATA_ID_x', which serves to sort all the duplicates in place by their infusion start time.  \n",
    "This follows the assumption that the patient's wait ends when their first infusion begins.\n",
    "Then, every duplicate row except the first (earliest infusion start), is dropped. "
   ]
  },
  {
   "cell_type": "code",
   "execution_count": null,
   "metadata": {},
   "outputs": [],
   "source": [
    "df = df.sort_values(by=['INFUSION_START'])\n",
    "df = df.sort_values(by=['INPATIENT_DATA_ID_x'])\n",
    "\n",
    "df.drop_duplicates(subset='INPATIENT_DATA_ID_x', keep='first', inplace=True)"
   ]
  },
  {
   "attachments": {},
   "cell_type": "markdown",
   "metadata": {},
   "source": [
    "The next cell calculates the wait time between CHECKIN_DTTM and CHAIR_START (WAIT_ONE). This marks the first time the patients are waiting.  \n",
    "Next, it calculates the wait time between CHAIR_START AND INFUSION_START (WAIT_TWO). This marks the second time the patients are waiting.  \n",
    "timeDifference is a function I created to calculate the difference in times. It can be found in functions.py"
   ]
  },
  {
   "cell_type": "code",
   "execution_count": null,
   "metadata": {},
   "outputs": [],
   "source": [
    "df['WAIT_ONE'] = df.apply(lambda row: timeDifference(row['CHECKIN_DTTM'], row['CHAIR_START']), axis=1)\n",
    "df['WAIT_TWO'] = df.apply(lambda row: timeDifference(row['CHAIR_START'], row['INFUSION_START']), axis=1)"
   ]
  },
  {
   "attachments": {},
   "cell_type": "markdown",
   "metadata": {},
   "source": [
    "This next cell filters the wait time columns. If the wait time is negative, then that row must have invalid data, so I kept only the rows with valid time data.  \n",
    "Also added a total wait time column that added both columns up."
   ]
  },
  {
   "cell_type": "code",
   "execution_count": null,
   "metadata": {},
   "outputs": [],
   "source": [
    "df = df[(df['WAIT_ONE'] >= 0) | (df['WAIT_ONE'].isna())]\n",
    "df = df[(df['WAIT_TWO'] >= 0) | (df['WAIT_TWO'].isna())]\n",
    "df['TOTAL_WAIT'] = df['WAIT_ONE'] + df['WAIT_TWO']"
   ]
  },
  {
   "attachments": {},
   "cell_type": "markdown",
   "metadata": {},
   "source": [
    "This next cell adds the 'TIME_OF_DAY' column to the dataset.  \n",
    "This is for use in the Time of Day vs. Average Wait Time graph.  \n",
    "timeOfDay can be found in functions.py"
   ]
  },
  {
   "cell_type": "code",
   "execution_count": null,
   "metadata": {},
   "outputs": [],
   "source": [
    "df['APPT_DTTM'] = pd.to_datetime(df['APPT_DTTM'])\n",
    "df['TIME_OF_DAY'] = df['APPT_DTTM'].apply(timeOfDay)"
   ]
  },
  {
   "attachments": {},
   "cell_type": "markdown",
   "metadata": {},
   "source": [
    "This cell exports the dataframe into a CSV, ready for statistical analysis."
   ]
  },
  {
   "cell_type": "code",
   "execution_count": null,
   "metadata": {},
   "outputs": [],
   "source": [
    "df.to_csv('finalData.csv', index=False)"
   ]
  }
 ],
 "metadata": {
  "kernelspec": {
   "display_name": "Python 3",
   "language": "python",
   "name": "python3"
  },
  "language_info": {
   "codemirror_mode": {
    "name": "ipython",
    "version": 3
   },
   "file_extension": ".py",
   "mimetype": "text/x-python",
   "name": "python",
   "nbconvert_exporter": "python",
   "pygments_lexer": "ipython3",
   "version": "3.11.0"
  },
  "orig_nbformat": 4,
  "vscode": {
   "interpreter": {
    "hash": "aee8b7b246df8f9039afb4144a1f6fd8d2ca17a180786b69acc140d282b71a49"
   }
  }
 },
 "nbformat": 4,
 "nbformat_minor": 2
}
